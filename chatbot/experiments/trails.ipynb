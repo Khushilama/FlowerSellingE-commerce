{
 "cells": [
  {
   "cell_type": "code",
   "execution_count": 2,
   "metadata": {},
   "outputs": [
    {
     "name": "stdout",
     "output_type": "stream",
     "text": [
      "{'id': 28, 'product_name': 'Rose Bouquet', 'price': 450, 'image': '/media/product_images/w1_xj73zIb.webp', 'product_desc': 'The red rose symbolizes love, beauty, and courage, linked to Venus, the planet of love. White roses signify purity and new beginnings, pink represents grace and admiration, and orange expresses passion and enthusiasm.', 'types': 'Wedding', 'categories': 'Rose', 'color_available': ['red', 'yellow', 'green', 'gray'], 'size': ['M', 'S', 'L']}\n",
      "{'id': 29, 'product_name': 'Lavender Bouquet', 'price': 500, 'image': '/media/product_images/w2_ayBnSJF.webp', 'product_desc': \"Lavender symbolizes love, devotion, and fertility, promoting calm and peace. Traditionally included in Irish wedding bouquets, it's believed to bring happiness and luck to a marriage.\", 'types': 'Wedding', 'categories': 'Lavender', 'color_available': ['red', 'yellow', 'green', 'gray'], 'size': ['M', 'S', 'L']}\n",
      "{'id': 30, 'product_name': 'Orchid Bouquet', 'price': 600, 'image': '/media/product_images/w5_OAMmEa9.webp', 'product_desc': 'Orchids symbolize love, beauty, strength, and luxury, adding a wow factor to any bouquet. In Japan, they represent success and are highly treasured.', 'types': 'Wedding', 'categories': 'Orchid', 'color_available': ['red', 'yellow', 'green', 'gray'], 'size': ['M', 'S', 'L']}\n",
      "{'id': 31, 'product_name': \"Baby's Breath (Gypsophilia)\", 'price': 250, 'image': '/media/product_images/w3_bHihGia.webp', 'product_desc': \"Baby's Breath is an all time favourite addition to wedding bouquets and we can see why! These sweet flowers represents everlasting love which is perfect for a wedding. It's also a great flower for new mothers or mothers to be!\", 'types': 'Wedding', 'categories': \"Baby's Breath\", 'color_available': ['red', 'yellow', 'green', 'gray'], 'size': ['M', 'S', 'L']}\n",
      "{'id': 32, 'product_name': 'Cherry Blossom', 'price': 200, 'image': '/media/product_images/w4_j6SOpF7.webp', 'product_desc': \"Cherry blossoms, celebrated for their beauty and femininity, symbolize love, luck, and abundance. They're a lucky choice for brides, especially perfect for a spring wedding.\", 'types': 'Wedding', 'categories': 'Cherry Blossom', 'color_available': ['red', 'yellow', 'green', 'gray'], 'size': ['M', 'S', 'L']}\n",
      "{'id': 33, 'product_name': 'Gerbera Daisies', 'price': 350, 'image': '/media/product_images/w6_YbKxiL7.webp', 'product_desc': 'Gerbera daisies add vibrant color to any bridal bouquet. Yellow symbolizes cheerfulness, red signifies deep love, and pink represents admiration and adoration.', 'types': 'Wedding', 'categories': 'Daisy', 'color_available': ['red', 'yellow', 'green', 'gray'], 'size': ['M', 'S', 'L']}\n",
      "{'id': 34, 'product_name': 'Daisy Bouquet', 'price': 300, 'image': '/media/product_images/w7_iQ1O504.webp', 'product_desc': 'The daisy symbolizes sweetness, purity, love, and children. Favored by the Norse Goddess Freya, it also represents motherhood, sensuality, and fertility.', 'types': 'Wedding', 'categories': 'Daisy', 'color_available': ['red', 'yellow', 'green', 'gray'], 'size': ['M', 'S', 'L']}\n",
      "{'id': 35, 'product_name': 'Chrysanthemum', 'price': 400, 'image': '/media/product_images/w8_eieAbxR.webp', 'product_desc': 'Chrysanthemums are perfect for a summer bridal bouquet. Red symbolizes love, white signifies loyalty and devoted love, and in general, they represent happiness, love, longevity, and joy—ideal for a wedding day!', 'types': 'Wedding', 'categories': 'Chrysanthemum', 'color_available': ['red', 'yellow', 'green', 'gray'], 'size': ['M', 'S', 'L']}\n",
      "{'id': 36, 'product_name': 'Carnations', 'price': 300, 'image': '/media/product_images/w9_apgAAsI.webp', 'product_desc': 'The carnation means fascination, distinction, devotion and love. White carnations symbolise pure love and adoration, while pink carnations say, \"I\\'ll never forget you.\"', 'types': 'Wedding', 'categories': 'Carnation', 'color_available': ['red', 'yellow', 'green', 'gray'], 'size': ['M', 'S', 'L']}\n",
      "{'id': 37, 'product_name': 'Lily of the Valley', 'price': 200, 'image': '/media/product_images/w10_LQ1ViUA.webp', 'product_desc': 'Lily of the valley have always been a wedding favourite, and with good reason! These sweet little white blossoms represent rebirth, new beginnings and humility. They are also thought to bring luck in love and symbolise a return of happiness.', 'types': 'Wedding', 'categories': 'Lily', 'color_available': ['red', 'yellow', 'green', 'gray'], 'size': ['M', 'S', 'L']}\n",
      "{'id': 38, 'product_name': 'Rose', 'price': 250, 'image': '/media/product_images/3.jpg', 'product_desc': 'The red rose is a symbol of love and passion, known for its deep crimson petals and elegant, full bloom. Its rich, velvety texture and sweet, slightly spicy fragrance make it a timeless favorite in floral arrangements, conveying emotions of romance and admiration.', 'types': 'flowers', 'categories': 'Rose', 'color_available': ['red', 'yellow', 'green', 'gray'], 'size': ['M', 'S', 'L']}\n",
      "{'id': 39, 'product_name': 'Red Lily', 'price': 150, 'image': '/media/product_images/3.webp', 'product_desc': 'The red lily (*Lilium*) features large, trumpet-shaped flowers in vibrant red hues, often with a glossy sheen. It has long, lance-shaped green leaves and grows on sturdy stems, reaching 2 to 6 feet tall. Blooming in mid to late summer, it adds a bold splash of color to gardens. Red lilies prefer well-drained soil and sunny spots, and they need regular watering but not waterlogging.', 'types': 'flowers', 'categories': 'Lily', 'color_available': ['red', 'yellow', 'green', 'gray'], 'size': ['M', 'S', 'L']}\n",
      "{'id': 40, 'product_name': 'Daisy', 'price': 150, 'image': '/media/product_images/1_czNq1Y5.jpeg', 'product_desc': 'The purple daisy (*Osteospermum*) has vibrant purple, daisy-like flowers with a yellow or white center. It features green, lance-shaped leaves and grows about 1 to 2 feet tall. Blooming from spring to fall, it thrives in full sun and well-drained soil.', 'types': 'flowers', 'categories': 'Daisy', 'color_available': ['red', 'yellow', 'green', 'gray'], 'size': ['M', 'S', 'L']}\n",
      "{'id': 41, 'product_name': 'Pansy', 'price': 200, 'image': '/media/product_images/pansy.webp', 'product_desc': 'The light purple pansy has delicate, heart-shaped petals in a soft lavender shade, often with darker veining or a yellow center. It grows about 6 to 8 inches tall and blooms from early spring to fall. The plant prefers cool weather, well-drained soil, and partial to full sun.', 'types': 'flowers', 'categories': 'Pansy', 'color_available': ['red', 'yellow', 'green', 'gray'], 'size': ['M', 'S', 'L']}\n",
      "{'id': 42, 'product_name': 'Pinnata', 'price': 250, 'image': '/media/product_images/pinnata.jpg', 'product_desc': 'The Red Pinnata, or *Red Pinnate*, is a plant characterized by its striking red, feather-like leaves or petals. It often features a bushy growth habit and adds vibrant color to gardens or landscapes. The plant prefers sunny locations and well-drained soil.', 'types': 'flowers', 'categories': 'Pinnata', 'color_available': ['red', 'yellow', 'green', 'gray'], 'size': ['M', 'S', 'L']}\n"
     ]
    }
   ],
   "source": [
    "with open('..//data//data.json') as file:\n",
    "        data = json.load(file)\n",
    "\n",
    "    # Extract relevant fields and store them in a list\n",
    "items = []\n",
    "for item in data:\n",
    "        print(item)"
   ]
  },
  {
   "cell_type": "code",
   "execution_count": 10,
   "metadata": {},
   "outputs": [],
   "source": [
    "import json\n",
    "from langchain_core.documents import Document  # Ensure this import is correct\n",
    "\n",
    "def dataconverter():\n",
    "    # Load the JSON data from the file\n",
    "    with open('..//data//data.json') as file:\n",
    "        data = json.load(file)\n",
    "\n",
    "    # Extract relevant fields and store them in a list\n",
    "    items = []\n",
    "    for item in data:\n",
    "        item_info = {\n",
    "            'product_name': item.get('product_name'),\n",
    "            'product_desc': item.get('product_desc'),\n",
    "            'price': item.get('price'),\n",
    "            'types': item.get('types'),\n",
    "            'categories': item.get('categories'),\n",
    "            'color_available': item.get('color_available'),\n",
    "            'size':item.get('size')\n",
    "        }\n",
    "        items.append(item_info)\n",
    "    \n",
    "    # Create documents\n",
    "    docs = []\n",
    "    for entry in items:\n",
    "        metadata = {\"product_name\": entry['product_name']}\n",
    "        \n",
    "        # Convert the fields to a string format (JSON format)\n",
    "        page_content = json.dumps({\n",
    "            'product_desc': entry['product_desc'],\n",
    "            'price': entry['price'],\n",
    "            'types': entry['types'],\n",
    "            'categories': entry['categories'],\n",
    "            'color_available': entry['color_available'],\n",
    "            'size':entry['size']\n",
    "        })\n",
    "        \n",
    "        # Create the Document object with page content and metadata\n",
    "        doc = Document(page_content=page_content, metadata=metadata)\n",
    "        \n",
    "        # Append the doc to the list\n",
    "        docs.append(doc)\n",
    "    print(docs)\n",
    "    return docs  # Return the list of documents\n",
    "\n",
    "\n"
   ]
  },
  {
   "cell_type": "code",
   "execution_count": 11,
   "metadata": {},
   "outputs": [
    {
     "name": "stdout",
     "output_type": "stream",
     "text": [
      "[Document(metadata={'product_name': 'Rose Bouquet'}, page_content='{\"product_desc\": \"The red rose symbolizes love, beauty, and courage, linked to Venus, the planet of love. White roses signify purity and new beginnings, pink represents grace and admiration, and orange expresses passion and enthusiasm.\", \"price\": 450, \"types\": \"Wedding\", \"categories\": \"Rose\", \"color_available\": [\"red\", \"yellow\", \"green\", \"gray\"], \"size\": [\"M\", \"S\", \"L\"]}'), Document(metadata={'product_name': 'Lavender Bouquet'}, page_content='{\"product_desc\": \"Lavender symbolizes love, devotion, and fertility, promoting calm and peace. Traditionally included in Irish wedding bouquets, it\\'s believed to bring happiness and luck to a marriage.\", \"price\": 500, \"types\": \"Wedding\", \"categories\": \"Lavender\", \"color_available\": [\"red\", \"yellow\", \"green\", \"gray\"], \"size\": [\"M\", \"S\", \"L\"]}'), Document(metadata={'product_name': 'Orchid Bouquet'}, page_content='{\"product_desc\": \"Orchids symbolize love, beauty, strength, and luxury, adding a wow factor to any bouquet. In Japan, they represent success and are highly treasured.\", \"price\": 600, \"types\": \"Wedding\", \"categories\": \"Orchid\", \"color_available\": [\"red\", \"yellow\", \"green\", \"gray\"], \"size\": [\"M\", \"S\", \"L\"]}'), Document(metadata={'product_name': \"Baby's Breath (Gypsophilia)\"}, page_content='{\"product_desc\": \"Baby\\'s Breath is an all time favourite addition to wedding bouquets and we can see why! These sweet flowers represents everlasting love which is perfect for a wedding. It\\'s also a great flower for new mothers or mothers to be!\", \"price\": 250, \"types\": \"Wedding\", \"categories\": \"Baby\\'s Breath\", \"color_available\": [\"red\", \"yellow\", \"green\", \"gray\"], \"size\": [\"M\", \"S\", \"L\"]}'), Document(metadata={'product_name': 'Cherry Blossom'}, page_content='{\"product_desc\": \"Cherry blossoms, celebrated for their beauty and femininity, symbolize love, luck, and abundance. They\\'re a lucky choice for brides, especially perfect for a spring wedding.\", \"price\": 200, \"types\": \"Wedding\", \"categories\": \"Cherry Blossom\", \"color_available\": [\"red\", \"yellow\", \"green\", \"gray\"], \"size\": [\"M\", \"S\", \"L\"]}'), Document(metadata={'product_name': 'Gerbera Daisies'}, page_content='{\"product_desc\": \"Gerbera daisies add vibrant color to any bridal bouquet. Yellow symbolizes cheerfulness, red signifies deep love, and pink represents admiration and adoration.\", \"price\": 350, \"types\": \"Wedding\", \"categories\": \"Daisy\", \"color_available\": [\"red\", \"yellow\", \"green\", \"gray\"], \"size\": [\"M\", \"S\", \"L\"]}'), Document(metadata={'product_name': 'Daisy Bouquet'}, page_content='{\"product_desc\": \"The daisy symbolizes sweetness, purity, love, and children. Favored by the Norse Goddess Freya, it also represents motherhood, sensuality, and fertility.\", \"price\": 300, \"types\": \"Wedding\", \"categories\": \"Daisy\", \"color_available\": [\"red\", \"yellow\", \"green\", \"gray\"], \"size\": [\"M\", \"S\", \"L\"]}'), Document(metadata={'product_name': 'Chrysanthemum'}, page_content='{\"product_desc\": \"Chrysanthemums are perfect for a summer bridal bouquet. Red symbolizes love, white signifies loyalty and devoted love, and in general, they represent happiness, love, longevity, and joy\\\\u2014ideal for a wedding day!\", \"price\": 400, \"types\": \"Wedding\", \"categories\": \"Chrysanthemum\", \"color_available\": [\"red\", \"yellow\", \"green\", \"gray\"], \"size\": [\"M\", \"S\", \"L\"]}'), Document(metadata={'product_name': 'Carnations'}, page_content='{\"product_desc\": \"The carnation means fascination, distinction, devotion and love. White carnations symbolise pure love and adoration, while pink carnations say, \\\\\"I\\'ll never forget you.\\\\\"\", \"price\": 300, \"types\": \"Wedding\", \"categories\": \"Carnation\", \"color_available\": [\"red\", \"yellow\", \"green\", \"gray\"], \"size\": [\"M\", \"S\", \"L\"]}'), Document(metadata={'product_name': 'Lily of the Valley'}, page_content='{\"product_desc\": \"Lily of the valley have always been a wedding favourite, and with good reason! These sweet little white blossoms represent rebirth, new beginnings and humility. They are also thought to bring luck in love and symbolise a return of happiness.\", \"price\": 200, \"types\": \"Wedding\", \"categories\": \"Lily\", \"color_available\": [\"red\", \"yellow\", \"green\", \"gray\"], \"size\": [\"M\", \"S\", \"L\"]}'), Document(metadata={'product_name': 'Rose'}, page_content='{\"product_desc\": \"The red rose is a symbol of love and passion, known for its deep crimson petals and elegant, full bloom. Its rich, velvety texture and sweet, slightly spicy fragrance make it a timeless favorite in floral arrangements, conveying emotions of romance and admiration.\", \"price\": 250, \"types\": \"flowers\", \"categories\": \"Rose\", \"color_available\": [\"red\", \"yellow\", \"green\", \"gray\"], \"size\": [\"M\", \"S\", \"L\"]}'), Document(metadata={'product_name': 'Red Lily'}, page_content='{\"product_desc\": \"The red lily (*Lilium*) features large, trumpet-shaped flowers in vibrant red hues, often with a glossy sheen. It has long, lance-shaped green leaves and grows on sturdy stems, reaching 2 to 6 feet tall. Blooming in mid to late summer, it adds a bold splash of color to gardens. Red lilies prefer well-drained soil and sunny spots, and they need regular watering but not waterlogging.\", \"price\": 150, \"types\": \"flowers\", \"categories\": \"Lily\", \"color_available\": [\"red\", \"yellow\", \"green\", \"gray\"], \"size\": [\"M\", \"S\", \"L\"]}'), Document(metadata={'product_name': 'Daisy'}, page_content='{\"product_desc\": \"The purple daisy (*Osteospermum*) has vibrant purple, daisy-like flowers with a yellow or white center. It features green, lance-shaped leaves and grows about 1 to 2 feet tall. Blooming from spring to fall, it thrives in full sun and well-drained soil.\", \"price\": 150, \"types\": \"flowers\", \"categories\": \"Daisy\", \"color_available\": [\"red\", \"yellow\", \"green\", \"gray\"], \"size\": [\"M\", \"S\", \"L\"]}'), Document(metadata={'product_name': 'Pansy'}, page_content='{\"product_desc\": \"The light purple pansy has delicate, heart-shaped petals in a soft lavender shade, often with darker veining or a yellow center. It grows about 6 to 8 inches tall and blooms from early spring to fall. The plant prefers cool weather, well-drained soil, and partial to full sun.\", \"price\": 200, \"types\": \"flowers\", \"categories\": \"Pansy\", \"color_available\": [\"red\", \"yellow\", \"green\", \"gray\"], \"size\": [\"M\", \"S\", \"L\"]}'), Document(metadata={'product_name': 'Pinnata'}, page_content='{\"product_desc\": \"The Red Pinnata, or *Red Pinnate*, is a plant characterized by its striking red, feather-like leaves or petals. It often features a bushy growth habit and adds vibrant color to gardens or landscapes. The plant prefers sunny locations and well-drained soil.\", \"price\": 250, \"types\": \"flowers\", \"categories\": \"Pinnata\", \"color_available\": [\"red\", \"yellow\", \"green\", \"gray\"], \"size\": [\"M\", \"S\", \"L\"]}')]\n"
     ]
    },
    {
     "data": {
      "text/plain": [
       "[Document(metadata={'product_name': 'Rose Bouquet'}, page_content='{\"product_desc\": \"The red rose symbolizes love, beauty, and courage, linked to Venus, the planet of love. White roses signify purity and new beginnings, pink represents grace and admiration, and orange expresses passion and enthusiasm.\", \"price\": 450, \"types\": \"Wedding\", \"categories\": \"Rose\", \"color_available\": [\"red\", \"yellow\", \"green\", \"gray\"], \"size\": [\"M\", \"S\", \"L\"]}'),\n",
       " Document(metadata={'product_name': 'Lavender Bouquet'}, page_content='{\"product_desc\": \"Lavender symbolizes love, devotion, and fertility, promoting calm and peace. Traditionally included in Irish wedding bouquets, it\\'s believed to bring happiness and luck to a marriage.\", \"price\": 500, \"types\": \"Wedding\", \"categories\": \"Lavender\", \"color_available\": [\"red\", \"yellow\", \"green\", \"gray\"], \"size\": [\"M\", \"S\", \"L\"]}'),\n",
       " Document(metadata={'product_name': 'Orchid Bouquet'}, page_content='{\"product_desc\": \"Orchids symbolize love, beauty, strength, and luxury, adding a wow factor to any bouquet. In Japan, they represent success and are highly treasured.\", \"price\": 600, \"types\": \"Wedding\", \"categories\": \"Orchid\", \"color_available\": [\"red\", \"yellow\", \"green\", \"gray\"], \"size\": [\"M\", \"S\", \"L\"]}'),\n",
       " Document(metadata={'product_name': \"Baby's Breath (Gypsophilia)\"}, page_content='{\"product_desc\": \"Baby\\'s Breath is an all time favourite addition to wedding bouquets and we can see why! These sweet flowers represents everlasting love which is perfect for a wedding. It\\'s also a great flower for new mothers or mothers to be!\", \"price\": 250, \"types\": \"Wedding\", \"categories\": \"Baby\\'s Breath\", \"color_available\": [\"red\", \"yellow\", \"green\", \"gray\"], \"size\": [\"M\", \"S\", \"L\"]}'),\n",
       " Document(metadata={'product_name': 'Cherry Blossom'}, page_content='{\"product_desc\": \"Cherry blossoms, celebrated for their beauty and femininity, symbolize love, luck, and abundance. They\\'re a lucky choice for brides, especially perfect for a spring wedding.\", \"price\": 200, \"types\": \"Wedding\", \"categories\": \"Cherry Blossom\", \"color_available\": [\"red\", \"yellow\", \"green\", \"gray\"], \"size\": [\"M\", \"S\", \"L\"]}'),\n",
       " Document(metadata={'product_name': 'Gerbera Daisies'}, page_content='{\"product_desc\": \"Gerbera daisies add vibrant color to any bridal bouquet. Yellow symbolizes cheerfulness, red signifies deep love, and pink represents admiration and adoration.\", \"price\": 350, \"types\": \"Wedding\", \"categories\": \"Daisy\", \"color_available\": [\"red\", \"yellow\", \"green\", \"gray\"], \"size\": [\"M\", \"S\", \"L\"]}'),\n",
       " Document(metadata={'product_name': 'Daisy Bouquet'}, page_content='{\"product_desc\": \"The daisy symbolizes sweetness, purity, love, and children. Favored by the Norse Goddess Freya, it also represents motherhood, sensuality, and fertility.\", \"price\": 300, \"types\": \"Wedding\", \"categories\": \"Daisy\", \"color_available\": [\"red\", \"yellow\", \"green\", \"gray\"], \"size\": [\"M\", \"S\", \"L\"]}'),\n",
       " Document(metadata={'product_name': 'Chrysanthemum'}, page_content='{\"product_desc\": \"Chrysanthemums are perfect for a summer bridal bouquet. Red symbolizes love, white signifies loyalty and devoted love, and in general, they represent happiness, love, longevity, and joy\\\\u2014ideal for a wedding day!\", \"price\": 400, \"types\": \"Wedding\", \"categories\": \"Chrysanthemum\", \"color_available\": [\"red\", \"yellow\", \"green\", \"gray\"], \"size\": [\"M\", \"S\", \"L\"]}'),\n",
       " Document(metadata={'product_name': 'Carnations'}, page_content='{\"product_desc\": \"The carnation means fascination, distinction, devotion and love. White carnations symbolise pure love and adoration, while pink carnations say, \\\\\"I\\'ll never forget you.\\\\\"\", \"price\": 300, \"types\": \"Wedding\", \"categories\": \"Carnation\", \"color_available\": [\"red\", \"yellow\", \"green\", \"gray\"], \"size\": [\"M\", \"S\", \"L\"]}'),\n",
       " Document(metadata={'product_name': 'Lily of the Valley'}, page_content='{\"product_desc\": \"Lily of the valley have always been a wedding favourite, and with good reason! These sweet little white blossoms represent rebirth, new beginnings and humility. They are also thought to bring luck in love and symbolise a return of happiness.\", \"price\": 200, \"types\": \"Wedding\", \"categories\": \"Lily\", \"color_available\": [\"red\", \"yellow\", \"green\", \"gray\"], \"size\": [\"M\", \"S\", \"L\"]}'),\n",
       " Document(metadata={'product_name': 'Rose'}, page_content='{\"product_desc\": \"The red rose is a symbol of love and passion, known for its deep crimson petals and elegant, full bloom. Its rich, velvety texture and sweet, slightly spicy fragrance make it a timeless favorite in floral arrangements, conveying emotions of romance and admiration.\", \"price\": 250, \"types\": \"flowers\", \"categories\": \"Rose\", \"color_available\": [\"red\", \"yellow\", \"green\", \"gray\"], \"size\": [\"M\", \"S\", \"L\"]}'),\n",
       " Document(metadata={'product_name': 'Red Lily'}, page_content='{\"product_desc\": \"The red lily (*Lilium*) features large, trumpet-shaped flowers in vibrant red hues, often with a glossy sheen. It has long, lance-shaped green leaves and grows on sturdy stems, reaching 2 to 6 feet tall. Blooming in mid to late summer, it adds a bold splash of color to gardens. Red lilies prefer well-drained soil and sunny spots, and they need regular watering but not waterlogging.\", \"price\": 150, \"types\": \"flowers\", \"categories\": \"Lily\", \"color_available\": [\"red\", \"yellow\", \"green\", \"gray\"], \"size\": [\"M\", \"S\", \"L\"]}'),\n",
       " Document(metadata={'product_name': 'Daisy'}, page_content='{\"product_desc\": \"The purple daisy (*Osteospermum*) has vibrant purple, daisy-like flowers with a yellow or white center. It features green, lance-shaped leaves and grows about 1 to 2 feet tall. Blooming from spring to fall, it thrives in full sun and well-drained soil.\", \"price\": 150, \"types\": \"flowers\", \"categories\": \"Daisy\", \"color_available\": [\"red\", \"yellow\", \"green\", \"gray\"], \"size\": [\"M\", \"S\", \"L\"]}'),\n",
       " Document(metadata={'product_name': 'Pansy'}, page_content='{\"product_desc\": \"The light purple pansy has delicate, heart-shaped petals in a soft lavender shade, often with darker veining or a yellow center. It grows about 6 to 8 inches tall and blooms from early spring to fall. The plant prefers cool weather, well-drained soil, and partial to full sun.\", \"price\": 200, \"types\": \"flowers\", \"categories\": \"Pansy\", \"color_available\": [\"red\", \"yellow\", \"green\", \"gray\"], \"size\": [\"M\", \"S\", \"L\"]}'),\n",
       " Document(metadata={'product_name': 'Pinnata'}, page_content='{\"product_desc\": \"The Red Pinnata, or *Red Pinnate*, is a plant characterized by its striking red, feather-like leaves or petals. It often features a bushy growth habit and adds vibrant color to gardens or landscapes. The plant prefers sunny locations and well-drained soil.\", \"price\": 250, \"types\": \"flowers\", \"categories\": \"Pinnata\", \"color_available\": [\"red\", \"yellow\", \"green\", \"gray\"], \"size\": [\"M\", \"S\", \"L\"]}')]"
      ]
     },
     "execution_count": 11,
     "metadata": {},
     "output_type": "execute_result"
    }
   ],
   "source": [
    "dataconverter()"
   ]
  },
  {
   "cell_type": "code",
   "execution_count": 12,
   "metadata": {},
   "outputs": [
    {
     "name": "stderr",
     "output_type": "stream",
     "text": [
      "d:\\Sunway\\Fyp\\FlowerSellingE-commerce\\chatbot\\chatbot\\lib\\site-packages\\tqdm\\auto.py:21: TqdmWarning: IProgress not found. Please update jupyter and ipywidgets. See https://ipywidgets.readthedocs.io/en/stable/user_install.html\n",
      "  from .autonotebook import tqdm as notebook_tqdm\n"
     ]
    },
    {
     "name": "stdout",
     "output_type": "stream",
     "text": [
      "[Document(metadata={'product_name': 'Rose Bouquet'}, page_content='{\"product_desc\": \"The red rose symbolizes love, beauty, and courage, linked to Venus, the planet of love. White roses signify purity and new beginnings, pink represents grace and admiration, and orange expresses passion and enthusiasm.\", \"price\": 450, \"types\": \"Wedding\", \"categories\": \"Rose\", \"color_available\": [\"red\", \"yellow\", \"green\", \"gray\"], \"size\": [\"M\", \"S\", \"L\"]}'), Document(metadata={'product_name': 'Lavender Bouquet'}, page_content='{\"product_desc\": \"Lavender symbolizes love, devotion, and fertility, promoting calm and peace. Traditionally included in Irish wedding bouquets, it\\'s believed to bring happiness and luck to a marriage.\", \"price\": 500, \"types\": \"Wedding\", \"categories\": \"Lavender\", \"color_available\": [\"red\", \"yellow\", \"green\", \"gray\"], \"size\": [\"M\", \"S\", \"L\"]}'), Document(metadata={'product_name': 'Orchid Bouquet'}, page_content='{\"product_desc\": \"Orchids symbolize love, beauty, strength, and luxury, adding a wow factor to any bouquet. In Japan, they represent success and are highly treasured.\", \"price\": 600, \"types\": \"Wedding\", \"categories\": \"Orchid\", \"color_available\": [\"red\", \"yellow\", \"green\", \"gray\"], \"size\": [\"M\", \"S\", \"L\"]}'), Document(metadata={'product_name': \"Baby's Breath (Gypsophilia)\"}, page_content='{\"product_desc\": \"Baby\\'s Breath is an all time favourite addition to wedding bouquets and we can see why! These sweet flowers represents everlasting love which is perfect for a wedding. It\\'s also a great flower for new mothers or mothers to be!\", \"price\": 250, \"types\": \"Wedding\", \"categories\": \"Baby\\'s Breath\", \"color_available\": [\"red\", \"yellow\", \"green\", \"gray\"], \"size\": [\"M\", \"S\", \"L\"]}'), Document(metadata={'product_name': 'Cherry Blossom'}, page_content='{\"product_desc\": \"Cherry blossoms, celebrated for their beauty and femininity, symbolize love, luck, and abundance. They\\'re a lucky choice for brides, especially perfect for a spring wedding.\", \"price\": 200, \"types\": \"Wedding\", \"categories\": \"Cherry Blossom\", \"color_available\": [\"red\", \"yellow\", \"green\", \"gray\"], \"size\": [\"M\", \"S\", \"L\"]}'), Document(metadata={'product_name': 'Gerbera Daisies'}, page_content='{\"product_desc\": \"Gerbera daisies add vibrant color to any bridal bouquet. Yellow symbolizes cheerfulness, red signifies deep love, and pink represents admiration and adoration.\", \"price\": 350, \"types\": \"Wedding\", \"categories\": \"Daisy\", \"color_available\": [\"red\", \"yellow\", \"green\", \"gray\"], \"size\": [\"M\", \"S\", \"L\"]}'), Document(metadata={'product_name': 'Daisy Bouquet'}, page_content='{\"product_desc\": \"The daisy symbolizes sweetness, purity, love, and children. Favored by the Norse Goddess Freya, it also represents motherhood, sensuality, and fertility.\", \"price\": 300, \"types\": \"Wedding\", \"categories\": \"Daisy\", \"color_available\": [\"red\", \"yellow\", \"green\", \"gray\"], \"size\": [\"M\", \"S\", \"L\"]}'), Document(metadata={'product_name': 'Chrysanthemum'}, page_content='{\"product_desc\": \"Chrysanthemums are perfect for a summer bridal bouquet. Red symbolizes love, white signifies loyalty and devoted love, and in general, they represent happiness, love, longevity, and joy\\\\u2014ideal for a wedding day!\", \"price\": 400, \"types\": \"Wedding\", \"categories\": \"Chrysanthemum\", \"color_available\": [\"red\", \"yellow\", \"green\", \"gray\"], \"size\": [\"M\", \"S\", \"L\"]}'), Document(metadata={'product_name': 'Carnations'}, page_content='{\"product_desc\": \"The carnation means fascination, distinction, devotion and love. White carnations symbolise pure love and adoration, while pink carnations say, \\\\\"I\\'ll never forget you.\\\\\"\", \"price\": 300, \"types\": \"Wedding\", \"categories\": \"Carnation\", \"color_available\": [\"red\", \"yellow\", \"green\", \"gray\"], \"size\": [\"M\", \"S\", \"L\"]}'), Document(metadata={'product_name': 'Lily of the Valley'}, page_content='{\"product_desc\": \"Lily of the valley have always been a wedding favourite, and with good reason! These sweet little white blossoms represent rebirth, new beginnings and humility. They are also thought to bring luck in love and symbolise a return of happiness.\", \"price\": 200, \"types\": \"Wedding\", \"categories\": \"Lily\", \"color_available\": [\"red\", \"yellow\", \"green\", \"gray\"], \"size\": [\"M\", \"S\", \"L\"]}'), Document(metadata={'product_name': 'Rose'}, page_content='{\"product_desc\": \"The red rose is a symbol of love and passion, known for its deep crimson petals and elegant, full bloom. Its rich, velvety texture and sweet, slightly spicy fragrance make it a timeless favorite in floral arrangements, conveying emotions of romance and admiration.\", \"price\": 250, \"types\": \"flowers\", \"categories\": \"Rose\", \"color_available\": [\"red\", \"yellow\", \"green\", \"gray\"], \"size\": [\"M\", \"S\", \"L\"]}'), Document(metadata={'product_name': 'Red Lily'}, page_content='{\"product_desc\": \"The red lily (*Lilium*) features large, trumpet-shaped flowers in vibrant red hues, often with a glossy sheen. It has long, lance-shaped green leaves and grows on sturdy stems, reaching 2 to 6 feet tall. Blooming in mid to late summer, it adds a bold splash of color to gardens. Red lilies prefer well-drained soil and sunny spots, and they need regular watering but not waterlogging.\", \"price\": 150, \"types\": \"flowers\", \"categories\": \"Lily\", \"color_available\": [\"red\", \"yellow\", \"green\", \"gray\"], \"size\": [\"M\", \"S\", \"L\"]}'), Document(metadata={'product_name': 'Daisy'}, page_content='{\"product_desc\": \"The purple daisy (*Osteospermum*) has vibrant purple, daisy-like flowers with a yellow or white center. It features green, lance-shaped leaves and grows about 1 to 2 feet tall. Blooming from spring to fall, it thrives in full sun and well-drained soil.\", \"price\": 150, \"types\": \"flowers\", \"categories\": \"Daisy\", \"color_available\": [\"red\", \"yellow\", \"green\", \"gray\"], \"size\": [\"M\", \"S\", \"L\"]}'), Document(metadata={'product_name': 'Pansy'}, page_content='{\"product_desc\": \"The light purple pansy has delicate, heart-shaped petals in a soft lavender shade, often with darker veining or a yellow center. It grows about 6 to 8 inches tall and blooms from early spring to fall. The plant prefers cool weather, well-drained soil, and partial to full sun.\", \"price\": 200, \"types\": \"flowers\", \"categories\": \"Pansy\", \"color_available\": [\"red\", \"yellow\", \"green\", \"gray\"], \"size\": [\"M\", \"S\", \"L\"]}'), Document(metadata={'product_name': 'Pinnata'}, page_content='{\"product_desc\": \"The Red Pinnata, or *Red Pinnate*, is a plant characterized by its striking red, feather-like leaves or petals. It often features a bushy growth habit and adds vibrant color to gardens or landscapes. The plant prefers sunny locations and well-drained soil.\", \"price\": 250, \"types\": \"flowers\", \"categories\": \"Pinnata\", \"color_available\": [\"red\", \"yellow\", \"green\", \"gray\"], \"size\": [\"M\", \"S\", \"L\"]}')]\n",
      "\n",
      "Inserted 15 documents.\n",
      "* {\"product_desc\": \"The light purple pansy has delicate, heart-shaped petals in a soft lavender shade, often with darker veining or a yellow center. It grows about 6 to 8 inches tall and blooms from early spring to fall. The plant prefers cool weather, well-drained soil, and partial to full sun.\", \"price\": 200, \"types\": \"flowers\", \"categories\": \"Pansy\", \"color_available\": [\"red\", \"yellow\", \"green\", \"gray\"], \"size\": [\"M\", \"S\", \"L\"]} [{'product_name': 'Pansy'}]\n",
      "* {\"product_desc\": \"Cherry blossoms, celebrated for their beauty and femininity, symbolize love, luck, and abundance. They're a lucky choice for brides, especially perfect for a spring wedding.\", \"price\": 200, \"types\": \"Wedding\", \"categories\": \"Cherry Blossom\", \"color_available\": [\"red\", \"yellow\", \"green\", \"gray\"], \"size\": [\"M\", \"S\", \"L\"]} [{'product_name': 'Cherry Blossom'}]\n",
      "* {\"product_desc\": \"The carnation means fascination, distinction, devotion and love. White carnations symbolise pure love and adoration, while pink carnations say, \\\"I'll never forget you.\\\"\", \"price\": 300, \"types\": \"Wedding\", \"categories\": \"Carnation\", \"color_available\": [\"red\", \"yellow\", \"green\", \"gray\"], \"size\": [\"M\", \"S\", \"L\"]} [{'product_name': 'Carnations'}]\n",
      "* {\"product_desc\": \"The red rose symbolizes love, beauty, and courage, linked to Venus, the planet of love. White roses signify purity and new beginnings, pink represents grace and admiration, and orange expresses passion and enthusiasm.\", \"price\": 450, \"types\": \"Wedding\", \"categories\": \"Rose\", \"color_available\": [\"red\", \"yellow\", \"green\", \"gray\"], \"size\": [\"M\", \"S\", \"L\"]} [{'product_name': 'Rose Bouquet'}]\n"
     ]
    }
   ],
   "source": [
    "from langchain_astradb import AstraDBVectorStore\n",
    "from dotenv import load_dotenv\n",
    "from langchain_google_genai import GoogleGenerativeAIEmbeddings\n",
    "#from happybot.dataconvertert import dataconverter\n",
    "import os\n",
    "\n",
    "\n",
    "load_dotenv()\n",
    "\n",
    "GENAI_API_KEY=os.getenv(\"API_KEY\")\n",
    "ASTRA_DB_API_ENDPOINT=os.getenv(\"ASTRA_DB_API_END_POINT\")\n",
    "ASTRA_DB_APPLICATION_TOKEN=os.getenv(\"ASTRA_DB_APPLICATION_TOKENS\")\n",
    "ASTRA_DB_KEYSPACE=os.getenv(\"ASTRA_DB_KEYSPACE\")\n",
    "\n",
    "embedding = GoogleGenerativeAIEmbeddings(model=\"models/embedding-001\", google_api_key=GENAI_API_KEY)\n",
    "\n",
    "def ingestdata(status):\n",
    "    vstore = AstraDBVectorStore(\n",
    "            embedding=embedding,\n",
    "            collection_name=\"chatbot_db\",\n",
    "            api_endpoint=ASTRA_DB_API_ENDPOINT,\n",
    "            token=ASTRA_DB_APPLICATION_TOKEN,\n",
    "            namespace=ASTRA_DB_KEYSPACE,\n",
    "        )\n",
    "    \n",
    "    storage=status\n",
    "    \n",
    "    if storage==None:\n",
    "        docs=dataconverter()\n",
    "        inserted_ids = vstore.add_documents(docs)\n",
    "    else:\n",
    "        return vstore\n",
    "    return vstore, inserted_ids\n",
    "\n",
    "if __name__=='__main__':\n",
    "    vstore,inserted_ids=ingestdata(None)\n",
    "    print(f\"\\nInserted {len(inserted_ids)} documents.\")\n",
    "    results = vstore.similarity_search(\"can you tell me the low budget sound basshead.\")\n",
    "    for res in results:\n",
    "            print(f\"* {res.page_content} [{res.metadata}]\")\n",
    "            "
   ]
  },
  {
   "cell_type": "code",
   "execution_count": 13,
   "metadata": {},
   "outputs": [
    {
     "name": "stdout",
     "output_type": "stream",
     "text": [
      "- flowers\n",
      "- Wedding\n"
     ]
    }
   ],
   "source": [
    "from langchain_core.output_parsers import StrOutputParser\n",
    "from langchain_core.prompts import ChatPromptTemplate\n",
    "from langchain_core.runnables import RunnablePassthrough\n",
    "from langchain_google_genai import ChatGoogleGenerativeAI\n",
    "#from happybot.data_ingest import ingestdata\n",
    "import os\n",
    "from dotenv import load_dotenv\n",
    "\n",
    "load_dotenv()\n",
    "\n",
    "GENAI_API_KEY=os.getenv(\"API_KEY\")\n",
    "\n",
    "def generation(vstore):\n",
    "    retriever = vstore.as_retriever(search_kwargs={\"k\": 3})\n",
    "\n",
    "    FLOWER_BOT_TEMPLATE = \"\"\"\n",
    "    Your ecommerce bot is an expert in product recommendations and customer queries.\n",
    "    It analyzes product name, price,types, categories, description, color_available and size to provide accurate and helpful responses.\n",
    "    Ensure your answers are relevant to the product context and refrain from straying off-topic.\n",
    "    Your responses should be concise and informative.\n",
    "\n",
    "    CONTEXT:\n",
    "    {context}\n",
    "\n",
    "    QUESTION: {question}\n",
    "\n",
    "    YOUR ANSWER:\n",
    "    \"\"\"\n",
    "\n",
    "\n",
    "    prompt = ChatPromptTemplate.from_template(FLOWER_BOT_TEMPLATE)\n",
    "\n",
    "    # Specify the model for ChatGoogleGenerativeAI\n",
    "    llm = ChatGoogleGenerativeAI(model=\"gemini-pro\",google_api_key=GENAI_API_KEY,temperature=0.3)\n",
    "\n",
    "    chain = (\n",
    "        {\"context\": retriever, \"question\": RunnablePassthrough()}\n",
    "        | prompt\n",
    "        | llm\n",
    "        | StrOutputParser()\n",
    "    )\n",
    "\n",
    "    return chain\n",
    "\n",
    "if __name__ == '__main__':\n",
    "    vstore = ingestdata(\"done\")\n",
    "    chain = generation(vstore)\n",
    "    print(chain.invoke(\"can you provide a provide types of flowers\"))\n"
   ]
  }
 ],
 "metadata": {
  "kernelspec": {
   "display_name": "Python 3",
   "language": "python",
   "name": "python3"
  },
  "language_info": {
   "codemirror_mode": {
    "name": "ipython",
    "version": 3
   },
   "file_extension": ".py",
   "mimetype": "text/x-python",
   "name": "python",
   "nbconvert_exporter": "python",
   "pygments_lexer": "ipython3",
   "version": "3.10.0"
  }
 },
 "nbformat": 4,
 "nbformat_minor": 2
}
